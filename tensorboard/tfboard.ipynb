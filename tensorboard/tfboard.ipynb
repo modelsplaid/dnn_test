{
 "cells": [
  {
   "cell_type": "code",
   "execution_count": 1,
   "id": "f43daa84-99ff-4c84-9eb0-21342f2387a8",
   "metadata": {},
   "outputs": [],
   "source": [
    "# In remote: tensorboard --logdir=runs\n",
    "# or: tensorboard dev upload --logdir runs \\\n",
    "#--name \"My latest experiment\" \\ # optional\n",
    "#--description \"Simple comparison of several hyperparameters\" # optional\n",
    "# In local: ssh -L 6006:localhost:6006 tzq@192.168.30.46\n",
    "# ref: https://pytorch.org/tutorials/recipes/recipes/tensorboard_with_pytorch.html\n",
    "import torch\n",
    "from torch.utils.tensorboard import SummaryWriter\n",
    "writer = SummaryWriter()\n"
   ]
  },
  {
   "cell_type": "code",
   "execution_count": 6,
   "id": "08dd72a8-d074-45b3-817b-d57bf43ac6bf",
   "metadata": {},
   "outputs": [],
   "source": [
    "x = torch.arange(-5, 5, 0.1).view(-1, 1)\n",
    "y = -5 * x + 0.1 * torch.randn(x.size())\n",
    "\n",
    "model = torch.nn.Linear(1, 1)\n",
    "criterion = torch.nn.MSELoss()\n",
    "optimizer = torch.optim.SGD(model.parameters(), lr = 0.1)\n",
    "\n",
    "def train_model(iter):\n",
    "    for epoch in range(iter):\n",
    "        y1 = model(x)\n",
    "        loss = criterion(y1, y)\n",
    "        writer.add_scalar(\"Loss/train\", loss, epoch)\n",
    "        optimizer.zero_grad()\n",
    "        loss.backward()\n",
    "        optimizer.step()\n",
    "\n",
    "train_model(100)\n",
    "writer.flush()"
   ]
  },
  {
   "cell_type": "code",
   "execution_count": 3,
   "id": "c5d58dc3-30b1-4cd8-9c46-d44836458db2",
   "metadata": {},
   "outputs": [],
   "source": [
    "writer.close()"
   ]
  },
  {
   "cell_type": "code",
   "execution_count": null,
   "id": "52dcc7a5-5108-4c41-9780-cfbfb6c5efb7",
   "metadata": {},
   "outputs": [],
   "source": []
  }
 ],
 "metadata": {
  "kernelspec": {
   "display_name": "Python 3",
   "language": "python",
   "name": "python3"
  },
  "language_info": {
   "codemirror_mode": {
    "name": "ipython",
    "version": 3
   },
   "file_extension": ".py",
   "mimetype": "text/x-python",
   "name": "python",
   "nbconvert_exporter": "python",
   "pygments_lexer": "ipython3",
   "version": "3.6.9"
  }
 },
 "nbformat": 4,
 "nbformat_minor": 5
}
