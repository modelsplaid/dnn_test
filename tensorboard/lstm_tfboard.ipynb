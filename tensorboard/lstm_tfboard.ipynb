{
 "cells": [
  {
   "cell_type": "code",
   "execution_count": 2,
   "id": "f43daa84-99ff-4c84-9eb0-21342f2387a8",
   "metadata": {},
   "outputs": [],
   "source": [
    "# In remote: tensorboard --logdir=runs\n",
    "# or: tensorboard dev upload --logdir runs \\\n",
    "#--name \"My latest experiment\" \\ # optional\n",
    "#--description \"Simple comparison of several hyperparameters\" # optional\n",
    "# In local: ssh -L 6006:localhost:6006 tzq@192.168.30.46\n",
    "# https://pytorch.org/tutorials/intermediate/tensorboard_tutorial.html\n",
    "\n",
    "import torch\n",
    "from torch.utils.tensorboard import SummaryWriter\n"
   ]
  },
  {
   "cell_type": "code",
   "execution_count": 3,
   "id": "08dd72a8-d074-45b3-817b-d57bf43ac6bf",
   "metadata": {},
   "outputs": [],
   "source": [
    "# imports\n",
    "import matplotlib.pyplot as plt\n",
    "import numpy as np\n",
    "\n",
    "import torch\n",
    "import torchvision\n",
    "import torchvision.transforms as transforms\n",
    "\n",
    "import torch.nn as nn\n",
    "import torch.nn.functional as F\n",
    "import torch.optim as optim\n"
   ]
  },
  {
   "cell_type": "code",
   "execution_count": 4,
   "id": "499f0985-0772-49e7-b9ec-e6fd586247a1",
   "metadata": {},
   "outputs": [],
   "source": [
    "writer = SummaryWriter()"
   ]
  },
  {
   "cell_type": "code",
   "execution_count": 8,
   "id": "dd005661-fdd4-4f49-a63f-ac09055d2814",
   "metadata": {},
   "outputs": [],
   "source": [
    "class NeuralNetwork(nn.Module):\n",
    "    def __init__(self):\n",
    "        super(NeuralNetwork, self).__init__()\n",
    "        self.lstm1 = nn.LSTM(1, 1, 1)\n",
    "\n",
    "    def forward(self, x,h0,c0):\n",
    "        output, (hn, cn) = self.lstm1(x,(h0,c0))\n",
    "        return output,(hn, cn)"
   ]
  },
  {
   "cell_type": "code",
   "execution_count": 15,
   "id": "e76a41eb-4442-44bf-ad84-de2b778b02ac",
   "metadata": {},
   "outputs": [
    {
     "name": "stdout",
     "output_type": "stream",
     "text": [
      "tensor([[[-0.1633]]], grad_fn=<StackBackward>)\n",
      "tensor([[[-0.1633]]], grad_fn=<StackBackward>)\n",
      "tensor([[[-0.3745]]], grad_fn=<StackBackward>)\n"
     ]
    }
   ],
   "source": [
    "X = torch.rand(1,1,1)\n",
    "net=NeuralNetwork()\n",
    "h0 = torch.randn(1,1,1)\n",
    "c0 = torch.randn(1,1,1)\n",
    "pred,(hn,cn) = net(X,h0,c0)\n",
    "print(pred)\n",
    "print(hn)\n",
    "print(cn)"
   ]
  },
  {
   "cell_type": "code",
   "execution_count": 19,
   "id": "a4cfd902-17c6-478e-bcb3-2789b802265d",
   "metadata": {},
   "outputs": [],
   "source": [
    "writer.add_graph(net,[X,h0,c0])"
   ]
  },
  {
   "cell_type": "code",
   "execution_count": null,
   "id": "8f8a99ff-1334-4658-afa4-cc143e84e703",
   "metadata": {},
   "outputs": [],
   "source": []
  }
 ],
 "metadata": {
  "kernelspec": {
   "display_name": "Python 3",
   "language": "python",
   "name": "python3"
  },
  "language_info": {
   "codemirror_mode": {
    "name": "ipython",
    "version": 3
   },
   "file_extension": ".py",
   "mimetype": "text/x-python",
   "name": "python",
   "nbconvert_exporter": "python",
   "pygments_lexer": "ipython3",
   "version": "3.6.9"
  }
 },
 "nbformat": 4,
 "nbformat_minor": 5
}
