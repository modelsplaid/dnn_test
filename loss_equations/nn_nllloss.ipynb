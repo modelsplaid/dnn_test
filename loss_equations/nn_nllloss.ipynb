{
 "cells": [
  {
   "cell_type": "code",
   "execution_count": 2,
   "id": "6e0aa209",
   "metadata": {},
   "outputs": [],
   "source": [
    "# https://pytorch.org/docs/stable/generated/torch.nn.NLLLoss.html\n",
    "# https://zhuanlan.zhihu.com/p/659288660\n",
    "import torch\n",
    "import torch.nn as nn\n",
    "import torch.nn.functional as F"
   ]
  },
  {
   "cell_type": "code",
   "execution_count": 22,
   "id": "6a74ae30",
   "metadata": {},
   "outputs": [
    {
     "name": "stdout",
     "output_type": "stream",
     "text": [
      "output:  tensor(-0.5000, grad_fn=<NllLossBackward0>)\n"
     ]
    }
   ],
   "source": [
    "# Batch = 1\n",
    "loss = nn.NLLLoss()\n",
    "\n",
    "# input is of size N x C = 1 x 3\n",
    "input = torch.tensor([[0.2,0.3,0.5]],requires_grad=True)\n",
    "target = torch.tensor([2])\n",
    "\n",
    "# Equation: -input[target[0]]/1\n",
    "output = loss(input, target)\n",
    "print(\"output: \",output)\n"
   ]
  },
  {
   "cell_type": "code",
   "execution_count": 30,
   "id": "48239743",
   "metadata": {},
   "outputs": [
    {
     "name": "stdout",
     "output_type": "stream",
     "text": [
      "sftmax:  tensor([[-1.2398, -1.1398, -0.9398]], grad_fn=<LogSoftmaxBackward0>)\n",
      "output:  tensor(0.9398, grad_fn=<NllLossBackward0>)\n"
     ]
    }
   ],
   "source": [
    "# Batch = 1, with softmax\n",
    "m = nn.LogSoftmax(dim=1)\n",
    "loss = nn.NLLLoss()\n",
    "\n",
    "# input is of size N x C = 1 x 3\n",
    "input = torch.tensor([[0.2,0.3,0.5]],requires_grad=True)\n",
    "target = torch.tensor([2])\n",
    "\n",
    "#log(exp(0.2)/(exp(0.5)+exp(0.2)+exp(0.3))) = -1.23983106084446\n",
    "#log(exp(0.3)/(exp(0.5)+exp(0.2)+exp(0.3))) = -1.13983106084446\n",
    "#log(exp(0.5)/(exp(0.5)+exp(0.2)+exp(0.3))) = -0.93983106084446\n",
    "\n",
    "sftmax = m(input)\n",
    "print(\"sftmax: \",sftmax) # [[-1.2398, -1.1398, -0.9398]]\n",
    "\n",
    "# Equation: -input[target[0]]/1 => 0.9398\n",
    "output = loss(sftmax, target)\n",
    "print(\"output: \",output)"
   ]
  },
  {
   "cell_type": "code",
   "execution_count": 25,
   "id": "60214098",
   "metadata": {},
   "outputs": [
    {
     "name": "stdout",
     "output_type": "stream",
     "text": [
      "input:  tensor([[0.2000, 0.3000, 0.5000],\n",
      "        [0.7000, 0.2000, 0.1000],\n",
      "        [0.3000, 0.4000, 0.3000],\n",
      "        [0.1000, 0.8000, 0.1000],\n",
      "        [0.3000, 0.1000, 0.6000]], requires_grad=True)\n",
      "target:  tensor([2, 0, 0, 1, 2])\n",
      "output:  tensor(-0.5800, grad_fn=<NllLossBackward0>)\n"
     ]
    }
   ],
   "source": [
    "# Batch = 5\n",
    "m = nn.LogSoftmax(dim=1)\n",
    "loss = nn.NLLLoss()\n",
    "# input is of size N x C = 5 x 3\n",
    "input = torch.tensor([[0.2,0.3,0.5],\n",
    "                      [0.7,0.2,0.1],\n",
    "                      [0.3,0.4,0.3],\n",
    "                      [0.1,0.8,0.1],\n",
    "                      [0.3,0.1,0.6]],requires_grad=True)\n",
    "\n",
    "# each element in target has to have 0 <= value < C\n",
    "target = torch.tensor([2,0,0,1,2])\n",
    "# Equation: \n",
    "\"\"\"\n",
    "(0.5+0.7+0.3+0.8+0.6)/5\n",
    "\"\"\"\n",
    "output = loss(input, target)\n",
    "print(\"output: \",output)"
   ]
  },
  {
   "cell_type": "code",
   "execution_count": null,
   "id": "68d24e3c",
   "metadata": {},
   "outputs": [],
   "source": [
    "# 2D loss example (used, for example, with image inputs)\n",
    "N, C = 5, 4\n",
    "loss = nn.NLLLoss()\n",
    "# input is of size N x C x height x width\n",
    "data = torch.randn(N, 16, 10, 10)\n",
    "conv = nn.Conv2d(16, C, (3, 3))\n",
    "m = nn.LogSoftmax(dim=1)\n",
    "# each element in target has to have 0 <= value < C\n",
    "target = torch.empty(N, 8, 8, dtype=torch.long).random_(0, C)\n",
    "output = loss(m(conv(data)), target)\n",
    "output.backward()"
   ]
  }
 ],
 "metadata": {
  "kernelspec": {
   "display_name": "Python 3",
   "language": "python",
   "name": "python3"
  },
  "language_info": {
   "codemirror_mode": {
    "name": "ipython",
    "version": 3
   },
   "file_extension": ".py",
   "mimetype": "text/x-python",
   "name": "python",
   "nbconvert_exporter": "python",
   "pygments_lexer": "ipython3",
   "version": "3.8.10"
  }
 },
 "nbformat": 4,
 "nbformat_minor": 5
}
