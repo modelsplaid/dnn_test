{
 "cells": [
  {
   "cell_type": "code",
   "execution_count": null,
   "id": "6e0aa209",
   "metadata": {},
   "outputs": [],
   "source": [
    "#https://towardsdatascience.com/softmax-activation-function-how-it-actually-works-d292d335bd78\n",
    "\n",
    "import torch\n",
    "import torch.nn as nn\n",
    "import torch.nn.functional as F"
   ]
  },
  {
   "cell_type": "markdown",
   "id": "53f18bb0",
   "metadata": {},
   "source": [
    "# todohere"
   ]
  }
 ],
 "metadata": {
  "kernelspec": {
   "display_name": "Python 3",
   "language": "python",
   "name": "python3"
  },
  "language_info": {
   "codemirror_mode": {
    "name": "ipython",
    "version": 3
   },
   "file_extension": ".py",
   "mimetype": "text/x-python",
   "name": "python",
   "nbconvert_exporter": "python",
   "pygments_lexer": "ipython3",
   "version": "3.8.10"
  }
 },
 "nbformat": 4,
 "nbformat_minor": 5
}
