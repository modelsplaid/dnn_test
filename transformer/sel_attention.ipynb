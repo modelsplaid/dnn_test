{
 "cells": [
  {
   "cell_type": "code",
   "execution_count": 1,
   "id": "6e0aa209",
   "metadata": {},
   "outputs": [],
   "source": [
    "import torch\n",
    "import torch.nn as nn\n",
    "import torch.nn.functional as F"
   ]
  },
  {
   "cell_type": "markdown",
   "id": "113b7f88",
   "metadata": {},
   "source": [
    "### Data Preparation"
   ]
  },
  {
   "cell_type": "code",
   "execution_count": 2,
   "id": "83098fa6",
   "metadata": {},
   "outputs": [
    {
     "name": "stdout",
     "output_type": "stream",
     "text": [
      "[[0, 1, 2, 3, 4, 5, 6, 7, 8], [9, 10, 11, 12, 13, 14], [15, 16, 12, 17], [18, 19, 20, 21, 22, 23, 24]]\n"
     ]
    }
   ],
   "source": [
    "# spam detection!\n",
    "data = ['you won a billion dollars , great work !',\n",
    "        'click here for cs685 midterm answers',\n",
    "       'read important cs685 news',\n",
    "       'send me your bank account info asap']\n",
    "\n",
    "labels = torch.LongTensor([1, 1, 0, 1]) # store ground-truth labels\n",
    "\n",
    "# let's do some preprocessing\n",
    "vocab = {}\n",
    "inputs = []\n",
    "\n",
    "for sentence in data:\n",
    "    idxs = []\n",
    "    sentence = sentence.split()\n",
    "    for word in sentence:\n",
    "        if word not in vocab:\n",
    "            vocab[word] = len(vocab)\n",
    "        idxs.append(vocab[word])\n",
    "    inputs.append(idxs)\n",
    "    \n",
    "print(inputs)"
   ]
  },
  {
   "cell_type": "markdown",
   "id": "93ee681c",
   "metadata": {},
   "source": [
    "### Build the model"
   ]
  },
  {
   "cell_type": "code",
   "execution_count": 3,
   "id": "29ed09a0",
   "metadata": {},
   "outputs": [],
   "source": [
    "class SelfAttentionNN(nn.Module):\n",
    "    \n",
    "    def __init__(self, embedding_dim, vocab_size):\n",
    "        \n",
    "        super().__init__()\n",
    "        self.embedding_dim = embedding_dim\n",
    "        self.embeddings = nn.Embedding(vocab_size, embedding_dim)\n",
    "        \n",
    "        self.Wq = nn.Linear(embedding_dim, embedding_dim) # project to query space\n",
    "        self.Wk = nn.Linear(embedding_dim, embedding_dim) # project to keys\n",
    "        self.Wv = nn.Linear(embedding_dim, embedding_dim) # project to values\n",
    "        \n",
    "        # the final classification layer\n",
    "        self.cls = nn.Linear(embedding_dim, 2)\n",
    "        \n",
    "    # all three args are T x embedding_dim matrices!\n",
    "    def dot_product_attn(self, q, k, v):\n",
    "        scores = q @ k.t() # gets all dot products at once, T X T\n",
    "        scores = F.softmax(scores, dim=1)\n",
    "        return scores @ v # T x embedding_dim\n",
    "    \n",
    "    # you can implement the three below for fun!\n",
    "    def bilinear_attn(self, q, k):\n",
    "        pass\n",
    "    \n",
    "    def scaled_dot_product_attn(self, q, k):\n",
    "        pass\n",
    "        \n",
    "    def mlp_attn(self, q, k):\n",
    "        pass\n",
    "        \n",
    "    def forward(self, inpt_sentence):\n",
    "        T = inpt_sentence.size(0) # number of tokens in input, assume T > 2\n",
    "        word_embeds = self.embeddings(inpt_sentence) # T x embedding_dim\n",
    "        \n",
    "        queries = self.Wq(word_embeds) #  T x embedding_dim\n",
    "        keys = self.Wk(word_embeds) #  T x embedding_dim\n",
    "        values = self.Wv(word_embeds) #  T x embedding_dim\n",
    "\n",
    "        # efficient attention computation\n",
    "        attn_reps = self.dot_product_attn(queries, keys, values)\n",
    "\n",
    "        # compose attn_reps into a single vector\n",
    "        attn_reps = torch.mean(attn_reps, dim=0)\n",
    "\n",
    "        pred = self.cls(attn_reps) # return logits\n",
    "        return pred.unsqueeze(0)"
   ]
  },
  {
   "cell_type": "markdown",
   "id": "c961e478",
   "metadata": {},
   "source": [
    "#### Test Inference"
   ]
  },
  {
   "cell_type": "code",
   "execution_count": 4,
   "id": "aa1d4b2c",
   "metadata": {},
   "outputs": [],
   "source": [
    "embedding_dim = 32\n",
    "vocab_size = len(vocab)"
   ]
  },
  {
   "cell_type": "code",
   "execution_count": 5,
   "id": "cef5dd0f",
   "metadata": {},
   "outputs": [],
   "source": [
    "model = SelfAttentionNN(embedding_dim, vocab_size)"
   ]
  },
  {
   "cell_type": "code",
   "execution_count": 6,
   "id": "2207e18b",
   "metadata": {},
   "outputs": [
    {
     "name": "stdout",
     "output_type": "stream",
     "text": [
      "tensor([[-0.5077, -0.0635]])\n"
     ]
    }
   ],
   "source": [
    "sample_input = torch.LongTensor([1, 2, 3, 4])\n",
    "\n",
    "with torch.no_grad():\n",
    "    out = model(sample_input)\n",
    "    print(out)"
   ]
  },
  {
   "cell_type": "markdown",
   "id": "3bb039b9",
   "metadata": {},
   "source": [
    "### Train the model"
   ]
  },
  {
   "cell_type": "code",
   "execution_count": 7,
   "id": "f78f70fe",
   "metadata": {},
   "outputs": [],
   "source": [
    "num_epochs = 10\n",
    "loss_fn = nn.CrossEntropyLoss()\n",
    "optim = torch.optim.SGD(model.parameters(), lr = 0.1)"
   ]
  },
  {
   "cell_type": "code",
   "execution_count": 8,
   "id": "ba52a9ee",
   "metadata": {},
   "outputs": [
    {
     "name": "stdout",
     "output_type": "stream",
     "text": [
      "0 2.8318784534931183\n",
      "1 1.7424476146697998\n",
      "2 0.9125520139932632\n",
      "3 0.44691064208745956\n",
      "4 0.2501957528293133\n",
      "5 0.16152603924274445\n",
      "6 0.11486340966075659\n",
      "7 0.08715852349996567\n",
      "8 0.06921625044196844\n",
      "9 0.05681771645322442\n"
     ]
    }
   ],
   "source": [
    "# training loop\n",
    "for epoch in range(num_epochs):\n",
    "    ep_loss = 0. # loss per epoch\n",
    "        \n",
    "    for i in range(len(inputs)):\n",
    "        # get input sentence and target label\n",
    "        inpt_sentence = torch.LongTensor(inputs[i])\n",
    "        target = labels[i].unsqueeze(0)\n",
    "        \n",
    "        pred = model(inpt_sentence)\n",
    "        loss = loss_fn(pred, target)\n",
    "        \n",
    "        optim.zero_grad()\n",
    "        loss.backward()\n",
    "        optim.step()\n",
    "        \n",
    "        ep_loss += loss.item()\n",
    "    \n",
    "    print(epoch, ep_loss)"
   ]
  },
  {
   "cell_type": "code",
   "execution_count": null,
   "id": "9914a28c",
   "metadata": {},
   "outputs": [],
   "source": []
  }
 ],
 "metadata": {
  "kernelspec": {
   "display_name": "Python 3",
   "language": "python",
   "name": "python3"
  },
  "language_info": {
   "codemirror_mode": {
    "name": "ipython",
    "version": 3
   },
   "file_extension": ".py",
   "mimetype": "text/x-python",
   "name": "python",
   "nbconvert_exporter": "python",
   "pygments_lexer": "ipython3",
   "version": "3.8.10"
  }
 },
 "nbformat": 4,
 "nbformat_minor": 5
}
