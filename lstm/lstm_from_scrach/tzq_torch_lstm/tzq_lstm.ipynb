{
 "cells": [
  {
   "cell_type": "code",
   "execution_count": 1,
   "id": "70b015f8-a365-4529-b895-39412660a23c",
   "metadata": {},
   "outputs": [],
   "source": [
    "import torch\n",
    "import torch.nn as nn\n",
    "\n"
   ]
  },
  {
   "cell_type": "code",
   "execution_count": 16,
   "id": "05dd134c-5bc1-4ccf-b2e3-bd162e25f009",
   "metadata": {},
   "outputs": [],
   "source": [
    "rnn = nn.LSTM(1, 1, 1)\n",
    "input = torch.randn(1,1,1)\n",
    "h0 = torch.randn(1,1,1)\n",
    "c0 = torch.randn(1,1,1)\n",
    "output, (hn, cn) = rnn(input, (h0, c0))"
   ]
  },
  {
   "cell_type": "code",
   "execution_count": 18,
   "id": "6e14cefd-2d0a-4bf9-98ed-7dedb2ef7b8a",
   "metadata": {},
   "outputs": [
    {
     "data": {
      "text/plain": [
       "LSTM(1, 1)"
      ]
     },
     "execution_count": 18,
     "metadata": {},
     "output_type": "execute_result"
    }
   ],
   "source": [
    "rnn"
   ]
  },
  {
   "cell_type": "code",
   "execution_count": null,
   "id": "ae6d53c6-c55b-445a-9d65-0ad2d5ead2dc",
   "metadata": {},
   "outputs": [],
   "source": []
  }
 ],
 "metadata": {
  "kernelspec": {
   "display_name": "Python 3",
   "language": "python",
   "name": "python3"
  },
  "language_info": {
   "codemirror_mode": {
    "name": "ipython",
    "version": 3
   },
   "file_extension": ".py",
   "mimetype": "text/x-python",
   "name": "python",
   "nbconvert_exporter": "python",
   "pygments_lexer": "ipython3",
   "version": "3.6.9"
  }
 },
 "nbformat": 4,
 "nbformat_minor": 5
}
