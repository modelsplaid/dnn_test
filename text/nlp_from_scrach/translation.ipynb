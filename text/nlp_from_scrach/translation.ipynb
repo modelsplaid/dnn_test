{
 "cells": [
  {
   "cell_type": "code",
   "execution_count": null,
   "id": "ec5ece53",
   "metadata": {},
   "outputs": [],
   "source": [
    "## Reference: https://pytorch.org/tutorials/intermediate/seq2seq_translation_tutorial.html#evaluation"
   ]
  }
 ],
 "metadata": {
  "kernelspec": {
   "display_name": "Python 3",
   "language": "python",
   "name": "python3"
  },
  "language_info": {
   "codemirror_mode": {
    "name": "ipython",
    "version": 3
   },
   "file_extension": ".py",
   "mimetype": "text/x-python",
   "name": "python",
   "nbconvert_exporter": "python",
   "pygments_lexer": "ipython3",
   "version": "3.8.10"
  }
 },
 "nbformat": 4,
 "nbformat_minor": 5
}
