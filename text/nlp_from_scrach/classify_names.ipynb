{
 "cells": [
  {
   "cell_type": "code",
   "execution_count": 2,
   "id": "3d2c7595-07d2-45fa-90c7-469def643f70",
   "metadata": {},
   "outputs": [
    {
     "name": "stdout",
     "output_type": "stream",
     "text": [
      "['../../data/data/names/Russian.txt', '../../data/data/names/Polish.txt', '../../data/data/names/Greek.txt', '../../data/data/names/Spanish.txt', '../../data/data/names/Dutch.txt', '../../data/data/names/Czech.txt', '../../data/data/names/French.txt', '../../data/data/names/Korean.txt', '../../data/data/names/Arabic.txt', '../../data/data/names/Chinese.txt', '../../data/data/names/Vietnamese.txt', '../../data/data/names/Italian.txt', '../../data/data/names/Scottish.txt', '../../data/data/names/German.txt', '../../data/data/names/Portuguese.txt', '../../data/data/names/English.txt', '../../data/data/names/Japanese.txt', '../../data/data/names/Irish.txt']\n"
     ]
    }
   ],
   "source": [
    "# ref https://pytorch.org/tutorials/intermediate/char_rnn_classification_tutorial.html\n",
    "\n",
    "from io import open\n",
    "import glob\n",
    "import os\n",
    "\n",
    "def findFiles(path): return glob.glob(path)\n",
    "\n",
    "print(findFiles('../../data/data/names/*.txt'))\n",
    "\n",
    "import unicodedata\n",
    "import string\n"
   ]
  },
  {
   "cell_type": "code",
   "execution_count": 1,
   "id": "b270a006",
   "metadata": {},
   "outputs": [
    {
     "ename": "NameError",
     "evalue": "name 'string' is not defined",
     "output_type": "error",
     "traceback": [
      "\u001b[0;31m---------------------------------------------------------------------------\u001b[0m",
      "\u001b[0;31mNameError\u001b[0m                                 Traceback (most recent call last)",
      "Cell \u001b[0;32mIn[1], line 1\u001b[0m\n\u001b[0;32m----> 1\u001b[0m all_letters \u001b[38;5;241m=\u001b[39m \u001b[43mstring\u001b[49m\u001b[38;5;241m.\u001b[39mascii_letters \u001b[38;5;241m+\u001b[39m \u001b[38;5;124m\"\u001b[39m\u001b[38;5;124m .,;\u001b[39m\u001b[38;5;124m'\u001b[39m\u001b[38;5;124m\"\u001b[39m\n\u001b[1;32m      2\u001b[0m n_letters \u001b[38;5;241m=\u001b[39m \u001b[38;5;28mlen\u001b[39m(all_letters)\n\u001b[1;32m      4\u001b[0m \u001b[38;5;66;03m# Turn a Unicode string to plain ASCII, thanks to https://stackoverflow.com/a/518232/2809427\u001b[39;00m\n",
      "\u001b[0;31mNameError\u001b[0m: name 'string' is not defined"
     ]
    }
   ],
   "source": [
    "all_letters = string.ascii_letters + \" .,;'\"\n",
    "n_letters = len(all_letters)\n",
    "\n",
    "# Turn a Unicode string to plain ASCII, thanks to https://stackoverflow.com/a/518232/2809427\n",
    "def unicodeToAscii(s):\n",
    "    return ''.join(\n",
    "        c for c in unicodedata.normalize('NFD', s)\n",
    "        if unicodedata.category(c) != 'Mn'\n",
    "        and c in all_letters\n",
    "    )\n",
    "\n",
    "print(unicodeToAscii('Ślusàrski'))\n",
    "print(unicodeToAscii('abc123'))"
   ]
  },
  {
   "cell_type": "code",
   "execution_count": 23,
   "id": "9197e4ce",
   "metadata": {},
   "outputs": [
    {
     "name": "stdout",
     "output_type": "stream",
     "text": [
      "18\n",
      "['Russian', 'Polish', 'Greek', 'Spanish', 'Dutch', 'Czech', 'French', 'Korean', 'Arabic', 'Chinese', 'Vietnamese', 'Italian', 'Scottish', 'German', 'Portuguese', 'English', 'Japanese', 'Irish']\n"
     ]
    }
   ],
   "source": [
    "# Build the category_lines dictionary, a list of names per language\n",
    "category_lines = {}\n",
    "all_categories = []\n",
    "\n",
    "# Read a file and split into lines\n",
    "def readLines(filename):\n",
    "    lines = open(filename, encoding='utf-8').read().strip().split('\\n')\n",
    "    return [unicodeToAscii(line) for line in lines]\n",
    "\n",
    "for filename in findFiles('../../data/data/names/*.txt'):\n",
    "    category = os.path.splitext(os.path.basename(filename))[0]\n",
    "    all_categories.append(category)\n",
    "    lines = readLines(filename)\n",
    "    category_lines[category] = lines\n",
    "\n",
    "n_categories = len(all_categories)\n",
    "\n",
    "print(\"Categories: \",n_categories,all_categories)\n"
   ]
  },
  {
   "cell_type": "markdown",
   "id": "b6ca5b1d",
   "metadata": {},
   "source": [
    "## Turning Names into Tensors"
   ]
  },
  {
   "cell_type": "code",
   "execution_count": 29,
   "id": "1f3cc56b",
   "metadata": {},
   "outputs": [
    {
     "name": "stdout",
     "output_type": "stream",
     "text": [
      "string.ascii_letters:  abcdefghijklmnopqrstuvwxyzABCDEFGHIJKLMNOPQRSTUVWXYZ\n",
      "tensor([[1., 0., 0., 0., 0., 0., 0., 0., 0., 0., 0., 0., 0., 0., 0., 0., 0., 0.,\n",
      "         0., 0., 0., 0., 0., 0., 0., 0., 0., 0., 0., 0., 0., 0., 0., 0., 0., 0.,\n",
      "         0., 0., 0., 0., 0., 0., 0., 0., 0., 0., 0., 0., 0., 0., 0., 0., 0., 0.,\n",
      "         0., 0., 0.]])\n",
      "tensor([[0., 1., 0., 0., 0., 0., 0., 0., 0., 0., 0., 0., 0., 0., 0., 0., 0., 0.,\n",
      "         0., 0., 0., 0., 0., 0., 0., 0., 0., 0., 0., 0., 0., 0., 0., 0., 0., 0.,\n",
      "         0., 0., 0., 0., 0., 0., 0., 0., 0., 0., 0., 0., 0., 0., 0., 0., 0., 0.,\n",
      "         0., 0., 0.]])\n",
      "torch.Size([5, 1, 57])\n"
     ]
    }
   ],
   "source": [
    "import torch\n",
    "print(\"string.ascii_letters: \",string.ascii_letters)\n",
    "# Find letter index from all_letters, e.g. \"a\" = 0\n",
    "def letterToIndex(letter):\n",
    "    return all_letters.find(letter)\n",
    "\n",
    "# Just for demonstration, turn a letter into a <1 x n_letters> Tensor\n",
    "def letterToTensor(letter):\n",
    "    tensor = torch.zeros(1, n_letters)\n",
    "    tensor[0][letterToIndex(letter)] = 1\n",
    "    return tensor\n",
    "\n",
    "# Turn a line into a <line_length x 1 x n_letters>,\n",
    "# or an array of one-hot letter vectors\n",
    "def lineToTensor(line):\n",
    "    tensor = torch.zeros(len(line), 1, n_letters)\n",
    "    for li, letter in enumerate(line):\n",
    "        tensor[li][0][letterToIndex(letter)] = 1\n",
    "    return tensor\n",
    "\n",
    "print(letterToTensor('a'))\n",
    "print(letterToTensor('b'))\n",
    "print(lineToTensor('Jones').size())"
   ]
  },
  {
   "cell_type": "markdown",
   "id": "c59841e8",
   "metadata": {},
   "source": [
    "## Creating the networks"
   ]
  },
  {
   "cell_type": "code",
   "execution_count": 30,
   "id": "6af97ace",
   "metadata": {},
   "outputs": [],
   "source": [
    "import torch.nn as nn\n",
    "\n",
    "class RNN(nn.Module):\n",
    "    def __init__(self, input_size, hidden_size, output_size):\n",
    "        super(RNN, self).__init__()\n",
    "\n",
    "        self.hidden_size = hidden_size\n",
    "\n",
    "        self.i2h = nn.Linear(input_size + hidden_size, hidden_size)\n",
    "        self.h2o = nn.Linear(hidden_size, output_size)\n",
    "        self.softmax = nn.LogSoftmax(dim=1)\n",
    "\n",
    "    def forward(self, input, hidden):\n",
    "        combined = torch.cat((input, hidden), 1)\n",
    "        hidden = self.i2h(combined)\n",
    "        output = self.h2o(hidden)\n",
    "        output = self.softmax(output)\n",
    "        return output, hidden\n",
    "\n",
    "    def initHidden(self):\n",
    "        return torch.zeros(1, self.hidden_size)\n",
    "\n",
    "n_hidden = 128\n",
    "rnn = RNN(n_letters, n_hidden, n_categories)"
   ]
  },
  {
   "cell_type": "code",
   "execution_count": 31,
   "id": "02121d42",
   "metadata": {},
   "outputs": [
    {
     "name": "stdout",
     "output_type": "stream",
     "text": [
      "tensor([[-2.9073, -2.9047, -2.8982, -2.8581, -2.9223, -2.8202, -2.8555, -2.8799,\n",
      "         -2.8559, -2.9068, -2.8993, -2.8031, -2.9246, -2.9992, -2.8870, -2.9488,\n",
      "         -2.9329, -2.8422]], grad_fn=<LogSoftmaxBackward0>)\n"
     ]
    }
   ],
   "source": [
    "input = letterToTensor('A')\n",
    "hidden = torch.zeros(1, n_hidden)\n",
    "\n",
    "output, next_hidden = rnn(input, hidden)\n",
    "\n",
    "print(output)"
   ]
  },
  {
   "cell_type": "code",
   "execution_count": 33,
   "id": "aa6c5e0a",
   "metadata": {},
   "outputs": [
    {
     "name": "stdout",
     "output_type": "stream",
     "text": [
      "tensor([[-2.9073, -2.9047, -2.8982, -2.8581, -2.9223, -2.8202, -2.8555, -2.8799,\n",
      "         -2.8559, -2.9068, -2.8993, -2.8031, -2.9246, -2.9992, -2.8870, -2.9488,\n",
      "         -2.9329, -2.8422]], grad_fn=<LogSoftmaxBackward0>)\n",
      "torch.return_types.topk(\n",
      "values=tensor([[-2.8031]], grad_fn=<TopkBackward0>),\n",
      "indices=tensor([[11]]))\n"
     ]
    }
   ],
   "source": [
    "input = lineToTensor('Albert')\n",
    "hidden = torch.zeros(1, n_hidden)\n",
    "\n",
    "output, next_hidden = rnn(input[0], hidden)\n",
    "print(output)\n",
    "print(output.topk(1))"
   ]
  },
  {
   "cell_type": "code",
   "execution_count": 40,
   "id": "1b49693e",
   "metadata": {},
   "outputs": [
    {
     "name": "stdout",
     "output_type": "stream",
     "text": [
      "('Russian', 0)\n",
      "tensor([1, 0, 0, 0, 0, 0, 0, 0, 0, 0, 0, 0, 0, 0, 0, 0, 0, 0])\n"
     ]
    }
   ],
   "source": [
    "#['Russian', 'Polish', 'Greek', 'Spanish', 'Dutch', 'Czech', 'French', 'Korean',\n",
    "# 'Arabic', 'Chinese', 'Vietnamese', 'Italian', 'Scottish', 'German', 'Portuguese',\n",
    "# 'English', 'Japanese', 'Irish']\n",
    "output = torch.tensor([1,0,0,0,0,0,0,0,0,0,0,0,0,0,0,0,0,0])\n",
    "def categoryFromOutput(output):\n",
    "    top_n, top_i = output.topk(1)\n",
    "    category_i = top_i[0].item()\n",
    "    return all_categories[category_i], category_i\n",
    "\n",
    "print(categoryFromOutput(output))\n",
    "print(output)\n",
    "\n"
   ]
  },
  {
   "cell_type": "code",
   "execution_count": 51,
   "id": "77e81fe4",
   "metadata": {},
   "outputs": [
    {
     "name": "stdout",
     "output_type": "stream",
     "text": [
      "Russian\n",
      "['Ang', 'AuYong', 'Bai', 'Ban', 'Bao', 'Bei', 'Bian', 'Bui', 'Cai', 'Cao', 'Cen', 'Chai', 'Chaim', 'Chan', 'Chang', 'Chao', 'Che', 'Chen', 'Cheng', 'Cheung', 'Chew', 'Chieu', 'Chin', 'Chong', 'Chou', 'Chu', 'Cui', 'Dai', 'Deng', 'Ding', 'Dong', 'Dou', 'Duan', 'Eng', 'Fan', 'Fei', 'Feng', 'Foong', 'Fung', 'Gan', 'Gauk', 'Geng', 'Gim', 'Gok', 'Gong', 'Guan', 'Guang', 'Guo', 'Gwock', 'Han', 'Hang', 'Hao', 'Hew', 'Hiu', 'Hong', 'Hor', 'Hsiao', 'Hua', 'Huan', 'Huang', 'Hui', 'Huie', 'Huo', 'Jia', 'Jiang', 'Jin', 'Jing', 'Joe', 'Kang', 'Kau', 'Khoo', 'Khu', 'Kong', 'Koo', 'Kwan', 'Kwei', 'Kwong', 'Lai', 'Lam', 'Lang', 'Lau', 'Law', 'Lew', 'Lian', 'Liao', 'Lim', 'Lin', 'Ling', 'Liu', 'Loh', 'Long', 'Loong', 'Luo', 'Mah', 'Mai', 'Mak', 'Mao', 'Mar', 'Mei', 'Meng', 'Miao', 'Min', 'Ming', 'Moy', 'Mui', 'Nie', 'Niu', 'OuYang', 'OwYang', 'Pan', 'Pang', 'Pei', 'Peng', 'Ping', 'Qian', 'Qin', 'Qiu', 'Quan', 'Que', 'Ran', 'Rao', 'Rong', 'Ruan', 'Sam', 'Seah', 'See ', 'Seow', 'Seto', 'Sha', 'Shan', 'Shang', 'Shao', 'Shaw', 'She', 'Shen', 'Sheng', 'Shi', 'Shu', 'Shuai', 'Shui', 'Shum', 'Siew', 'Siu', 'Song', 'Sum', 'Sun', 'Sze ', 'Tan', 'Tang', 'Tao', 'Teng', 'Teoh', 'Thean', 'Thian', 'Thien', 'Tian', 'Tong', 'Tow', 'Tsang', 'Tse', 'Tsen', 'Tso', 'Tze', 'Wan', 'Wang', 'Wei', 'Wen', 'Weng', 'Won', 'Wong', 'Woo', 'Xiang', 'Xiao', 'Xie', 'Xing', 'Xue', 'Xun', 'Yan', 'Yang', 'Yao', 'Yap', 'Yau', 'Yee', 'Yep', 'Yim', 'Yin', 'Ying', 'Yong', 'You', 'Yuan', 'Zang', 'Zeng', 'Zha', 'Zhan', 'Zhang', 'Zhao', 'Zhen', 'Zheng', 'Zhong', 'Zhou', 'Zhu', 'Zhuo', 'Zong', 'Zou', 'Bing', 'Chi', 'Chu', 'Cong', 'Cuan', 'Dan', 'Fei', 'Feng', 'Gai', 'Gao', 'Gou', 'Guan', 'Gui', 'Guo', 'Hong', 'Hou', 'Huan', 'Jian', 'Jiao', 'Jin', 'Jiu', 'Juan', 'Jue', 'Kan', 'Kuai', 'Kuang', 'Kui', 'Lao', 'Liang', 'Lu', 'Luo', 'Man', 'Nao', 'Pian', 'Qiao', 'Qing', 'Qiu', 'Rang', 'Rui', 'She', 'Shi', 'Shuo', 'Sui', 'Tai', 'Wan', 'Wei', 'Xian', 'Xie', 'Xin', 'Xing', 'Xiong', 'Xuan', 'Yan', 'Yin', 'Ying', 'Yuan', 'Yue', 'Yun', 'Zha', 'Zhai', 'Zhang', 'Zhi', 'Zhuan', 'Zhui']\n",
      "category = Italian / line = Varano\n",
      "category = Scottish / line = Stevenson\n",
      "category = Czech / line = Rypka\n"
     ]
    }
   ],
   "source": [
    "import random\n",
    "def randomChoice(l):\n",
    "    return l[random.randint(0, len(l) - 1)]\n",
    "print(randomChoice(all_categories))\n",
    "\n",
    "def randomTrainingExample():\n",
    "    category = randomChoice(all_categories)\n",
    "    line = randomChoice(category_lines[category])\n",
    "    category_tensor = torch.tensor([all_categories.index(category)], dtype=torch.long)\n",
    "    line_tensor = lineToTensor(line)\n",
    "    return category, line, category_tensor, line_tensor\n",
    "print(category_lines[\"Chinese\"])\n",
    "\n",
    "for i in range(3):\n",
    "    category, line, category_tensor, line_tensor = randomTrainingExample()\n",
    "    print('category =', category, '/ line =', line)\n",
    "\n"
   ]
  },
  {
   "cell_type": "markdown",
   "id": "c4ef7b1b",
   "metadata": {},
   "source": [
    "# Train network:"
   ]
  },
  {
   "cell_type": "code",
   "execution_count": 37,
   "id": "940b2d1c",
   "metadata": {},
   "outputs": [],
   "source": [
    "criterion = nn.NLLLoss()\n",
    "learning_rate = 0.005 # If you set this too high, it might explode. If too low, it might not learn\n",
    "\n",
    "def train(category_tensor, line_tensor):\n",
    "    hidden = rnn.initHidden()\n",
    "\n",
    "    rnn.zero_grad()\n",
    "\n",
    "    for i in range(line_tensor.size()[0]):\n",
    "        output, hidden = rnn(line_tensor[i], hidden)\n",
    "\n",
    "    loss = criterion(output, category_tensor)\n",
    "    loss.backward()\n",
    "\n",
    "    # Add parameters' gradients to their values, multiplied by learning rate\n",
    "    for p in rnn.parameters():\n",
    "        p.data.add_(p.grad.data, alpha=-learning_rate)\n",
    "\n",
    "    return output, loss.item()"
   ]
  },
  {
   "cell_type": "code",
   "execution_count": 55,
   "id": "4c5cd84d",
   "metadata": {},
   "outputs": [
    {
     "name": "stdout",
     "output_type": "stream",
     "text": [
      "5000 0% (0m 6s) 2.0169 Lachapelle / Scottish ✗ (French)\n",
      "10000 1% (0m 13s) 1.8566 Mcmahon / Korean ✗ (Irish)\n",
      "15000 1% (0m 20s) 3.9036 Skwor / Korean ✗ (Czech)\n",
      "20000 2% (0m 26s) 0.6860 Schuhart / German ✓\n",
      "25000 2% (0m 32s) 0.6875 Deeb / Arabic ✓\n",
      "30000 3% (0m 39s) 1.4182 Santiago / Portuguese ✗ (Spanish)\n",
      "35000 3% (0m 46s) 0.1202 Damhain / Irish ✓\n",
      "40000 4% (0m 53s) 0.3551 Schrijnemakers / Dutch ✓\n",
      "45000 4% (1m 0s) 0.0105 Stawski / Polish ✓\n",
      "50000 5% (1m 7s) 0.7904 Lau / Vietnamese ✗ (Chinese)\n",
      "55000 5% (1m 13s) 1.5490 Brady / Scottish ✗ (Irish)\n",
      "60000 6% (1m 20s) 1.1480 Uhlik / Russian ✗ (Czech)\n",
      "65000 6% (1m 27s) 3.0213 Napier / French ✗ (English)\n",
      "70000 7% (1m 33s) 1.9026 Lucas / Greek ✗ (English)\n",
      "75000 7% (1m 40s) 3.5727 Wellington / Scottish ✗ (English)\n",
      "80000 8% (1m 47s) 3.1469 Krivan / English ✗ (Czech)\n",
      "85000 8% (1m 54s) 0.2872 Moon / Korean ✓\n",
      "90000 9% (2m 1s) 0.0185 Koutsoubos / Greek ✓\n",
      "95000 9% (2m 7s) 1.2842 Demetrious / Portuguese ✗ (Greek)\n",
      "100000 10% (2m 14s) 1.3645 Mikhail / Russian ✗ (Arabic)\n",
      "105000 10% (2m 21s) 3.2181 Borowski / Polish ✗ (Czech)\n",
      "110000 11% (2m 28s) 3.0939 Havlice / French ✗ (Czech)\n",
      "115000 11% (2m 35s) 1.7817 Allan / Irish ✗ (Scottish)\n",
      "120000 12% (2m 42s) 0.4915 Donoghue / Irish ✓\n",
      "125000 12% (2m 49s) 1.6658 Ullmann / Dutch ✗ (English)\n",
      "130000 13% (2m 56s) 1.4397 Simecek / Dutch ✗ (Czech)\n",
      "135000 13% (3m 2s) 1.1843 Doherty / Irish ✓\n",
      "140000 14% (3m 9s) 1.0705 Roijakker / Scottish ✗ (Dutch)\n",
      "145000 14% (3m 16s) 1.7945 Busto / Portuguese ✗ (Spanish)\n",
      "150000 15% (3m 23s) 0.6239 Thomson / Scottish ✓\n",
      "155000 15% (3m 29s) 0.1190 Madaidhin / Irish ✓\n",
      "160000 16% (3m 36s) 0.5152 Parent / French ✓\n",
      "165000 16% (3m 43s) 0.5128 Nardovino / Italian ✓\n",
      "170000 17% (3m 50s) 0.0542 Kwak / Korean ✓\n",
      "175000 17% (3m 57s) 1.3617 Maneates / Dutch ✗ (Greek)\n",
      "180000 18% (4m 3s) 0.4399 Harwood / English ✓\n",
      "185000 18% (4m 10s) 1.1007 Burns / Scottish ✓\n",
      "190000 19% (4m 17s) 0.9777 Zelinka / Polish ✗ (Czech)\n",
      "195000 19% (4m 24s) 0.0393 Churyukin / Russian ✓\n",
      "200000 20% (4m 31s) 0.4096 Said / Arabic ✓\n",
      "205000 20% (4m 37s) 0.7382 Snaijer / Dutch ✓\n",
      "210000 21% (4m 44s) 2.1148 Monette / English ✗ (French)\n",
      "215000 21% (4m 51s) 0.0337 Zdunowski / Polish ✓\n",
      "220000 22% (4m 58s) 2.5302 Firmin / Irish ✗ (French)\n",
      "225000 22% (5m 4s) 1.7212 Franco / Italian ✗ (Spanish)\n",
      "230000 23% (5m 11s) 0.0491 Polymenakou / Greek ✓\n",
      "235000 23% (5m 18s) 0.8371 Mckay / Scottish ✓\n",
      "240000 24% (5m 25s) 3.7694 Samuel / Portuguese ✗ (Irish)\n",
      "245000 24% (5m 32s) 2.1357 Cleirich / English ✗ (Irish)\n",
      "250000 25% (5m 38s) 0.3930 Coelho / Portuguese ✓\n",
      "255000 25% (5m 45s) 0.1350 Babaskin / Russian ✓\n",
      "260000 26% (5m 53s) 0.5340 Huynh / Vietnamese ✓\n",
      "265000 26% (6m 0s) 1.3552 Eglan / Scottish ✗ (English)\n",
      "270000 27% (6m 7s) 0.8282 Ha / Vietnamese ✓\n",
      "275000 27% (6m 13s) 2.3478 Siegel / Czech ✗ (German)\n",
      "280000 28% (6m 21s) 3.9697 Denis / Greek ✗ (French)\n",
      "285000 28% (6m 28s) 4.3242 Quasninsky / Scottish ✗ (Czech)\n",
      "290000 28% (6m 35s) 0.5136 Fei / Chinese ✓\n",
      "295000 29% (6m 42s) 0.0434 Yi / Korean ✓\n",
      "300000 30% (6m 49s) 1.9811 Cann / Korean ✗ (Dutch)\n",
      "305000 30% (6m 56s) 0.9673 Tahan / Vietnamese ✗ (Arabic)\n",
      "310000 31% (7m 4s) 0.3155 Soares / Portuguese ✓\n",
      "315000 31% (7m 10s) 0.4403 Mansour / Arabic ✓\n",
      "320000 32% (7m 17s) 1.6380 Quinn / German ✗ (Irish)\n",
      "325000 32% (7m 25s) 2.4169 Pei / Vietnamese ✗ (Chinese)\n",
      "330000 33% (7m 33s) 1.1760 Chekin / Irish ✗ (Russian)\n",
      "335000 33% (7m 41s) 0.2262 Favager / French ✓\n",
      "340000 34% (7m 49s) 0.1854 Pagano / Italian ✓\n",
      "345000 34% (7m 56s) 0.0045 Kalaichev / Russian ✓\n",
      "350000 35% (8m 4s) 5.4200 Patrick / Czech ✗ (Irish)\n",
      "355000 35% (8m 11s) 3.2965 Vitram / English ✗ (Russian)\n",
      "360000 36% (8m 18s) 1.3068 Doan / Vietnamese ✓\n",
      "365000 36% (8m 25s) 0.7727 Marquering / Dutch ✓\n",
      "370000 37% (8m 32s) 0.2304 Dam / Vietnamese ✓\n",
      "375000 37% (8m 39s) 0.3859 Takamura / Japanese ✓\n",
      "380000 38% (8m 46s) 0.2244 Ferreira / Portuguese ✓\n",
      "385000 38% (8m 53s) 4.9522 Maly / Irish ✗ (Polish)\n",
      "390000 39% (9m 0s) 1.0087 Walters / English ✓\n",
      "395000 39% (9m 7s) 0.4884 Specht / Dutch ✓\n",
      "400000 40% (9m 13s) 1.0566 Siskind / English ✗ (German)\n",
      "405000 40% (9m 20s) 1.4471 Samuel / German ✓\n",
      "410000 41% (9m 27s) 1.6973 Rorris / Dutch ✗ (Greek)\n",
      "415000 41% (9m 34s) 0.1268 Kosmatka / Polish ✓\n",
      "420000 42% (9m 41s) 3.7408 Mihels / French ✗ (Russian)\n",
      "425000 42% (9m 48s) 0.7163 Tchajengin / Russian ✓\n",
      "430000 43% (9m 55s) 0.7985 Melo / Portuguese ✓\n",
      "435000 43% (10m 2s) 2.5927 Brown / German ✗ (Scottish)\n",
      "440000 44% (10m 8s) 1.9315 St martin / Scottish ✗ (French)\n",
      "445000 44% (10m 15s) 0.3151 Kitabatake / Japanese ✓\n",
      "450000 45% (10m 22s) 1.0694 Duan / Vietnamese ✗ (Chinese)\n",
      "455000 45% (10m 29s) 1.8512 Mulder / Scottish ✗ (Dutch)\n",
      "460000 46% (10m 36s) 0.3627 Rudaski / Polish ✓\n",
      "465000 46% (10m 43s) 2.5055 Salomon / French ✗ (Polish)\n",
      "470000 47% (10m 49s) 0.7207 Teagan / Irish ✓\n",
      "475000 47% (10m 56s) 3.1657 Munro / Portuguese ✗ (Scottish)\n",
      "480000 48% (11m 3s) 1.7691 Dupond / English ✗ (French)\n",
      "485000 48% (11m 10s) 2.0138 Vaisfeld / English ✗ (Russian)\n",
      "490000 49% (11m 17s) 0.4673 O'Hare / Irish ✓\n",
      "495000 49% (11m 24s) 3.9584 Cerny / Scottish ✗ (Czech)\n",
      "500000 50% (11m 31s) 0.4896 Mccallum / Scottish ✓\n",
      "505000 50% (11m 37s) 0.0321 Majewski / Polish ✓\n",
      "510000 51% (11m 44s) 1.0030 Janitsky / Russian ✓\n",
      "515000 51% (11m 51s) 2.2343 Tiedeman / French ✗ (German)\n",
      "520000 52% (11m 58s) 1.9086 Oorschot / Scottish ✗ (Dutch)\n",
      "525000 52% (12m 5s) 0.1520 Kawagishi / Japanese ✓\n",
      "530000 53% (12m 12s) 0.7797 Chong / Korean ✓\n",
      "535000 53% (12m 18s) 0.1023 Babenchikoff / Russian ✓\n",
      "540000 54% (12m 25s) 0.4542 Kawazu / Japanese ✓\n",
      "545000 54% (12m 32s) 0.0157 Tomioka / Japanese ✓\n",
      "550000 55% (12m 39s) 0.0109 Alfimov / Russian ✓\n",
      "555000 55% (12m 45s) 2.1110 Jong / Chinese ✗ (Korean)\n",
      "560000 56% (12m 52s) 0.6063 Felix / French ✓\n",
      "565000 56% (12m 59s) 1.4920 Gauk / Korean ✗ (Chinese)\n",
      "570000 56% (13m 6s) 1.7842 Kilburn / German ✗ (English)\n",
      "575000 57% (13m 13s) 1.3005 Chen / Korean ✗ (Chinese)\n",
      "580000 57% (13m 20s) 0.4006 Grischenko / Russian ✓\n",
      "585000 58% (13m 27s) 4.3431 Reyes / Dutch ✗ (Spanish)\n",
      "590000 59% (13m 34s) 1.2839 Medina / Spanish ✓\n",
      "595000 59% (13m 41s) 0.0202 Karnoupakis / Greek ✓\n",
      "600000 60% (13m 48s) 3.8513 Attard / Arabic ✗ (English)\n",
      "605000 60% (13m 55s) 1.5780 De la fontaine / Italian ✗ (French)\n",
      "610000 61% (14m 2s) 0.2569 Yuan / Chinese ✓\n",
      "615000 61% (14m 9s) 3.0432 Blanc / Scottish ✗ (French)\n",
      "620000 62% (14m 15s) 0.3076 Sin / Korean ✓\n",
      "625000 62% (14m 22s) 0.1644 Luc / Vietnamese ✓\n",
      "630000 63% (14m 29s) 2.2916 Hamilton / Russian ✗ (English)\n",
      "635000 63% (14m 36s) 2.1489 Lapointe / English ✗ (French)\n",
      "640000 64% (14m 43s) 0.0480 Antonopoulos / Greek ✓\n",
      "645000 64% (14m 50s) 0.5847 Wehunt / German ✓\n",
      "650000 65% (14m 57s) 0.2398 Wojewodka / Polish ✓\n",
      "655000 65% (15m 4s) 0.4336 Ferro / Portuguese ✓\n",
      "660000 66% (15m 11s) 1.7173 Aleshite / French ✗ (German)\n",
      "665000 66% (15m 18s) 0.3456 Zhen / Chinese ✓\n",
      "670000 67% (15m 24s) 1.7293 Samson / English ✗ (Dutch)\n",
      "675000 67% (15m 31s) 0.4658 Yadrihinsky / Russian ✓\n",
      "680000 68% (15m 38s) 5.7497 Vo / Vietnamese ✗ (German)\n",
      "685000 68% (15m 45s) 0.5136 Laguardia / Italian ✓\n",
      "690000 69% (15m 52s) 0.2351 Toma / Arabic ✓\n",
      "695000 69% (15m 59s) 0.0454 Yeon / Korean ✓\n",
      "700000 70% (16m 5s) 1.5010 Paredes / Dutch ✗ (Portuguese)\n",
      "705000 70% (16m 12s) 1.1241 Reinder / Dutch ✓\n",
      "710000 71% (16m 19s) 0.6070 Vincent / French ✓\n",
      "715000 71% (16m 26s) 0.2955 Salib / Arabic ✓\n",
      "720000 72% (16m 33s) 0.0201 Chrysanthopoulos / Greek ✓\n",
      "725000 72% (16m 40s) 0.1744 Gniewek / Polish ✓\n",
      "730000 73% (16m 47s) 0.7292 Fukunaka / Japanese ✓\n",
      "735000 73% (16m 53s) 1.6956 Guerrero / Portuguese ✗ (Spanish)\n",
      "740000 74% (17m 0s) 0.3862 Okanao / Japanese ✓\n",
      "745000 74% (17m 7s) 0.0040 O'Dowd / Irish ✓\n",
      "750000 75% (17m 14s) 0.1377 Tokuda / Japanese ✓\n",
      "755000 75% (17m 20s) 2.6991 Agresta / Czech ✗ (Italian)\n",
      "760000 76% (17m 27s) 0.7990 Vega / Spanish ✓\n",
      "765000 76% (17m 34s) 0.0924 Ardizzone / Italian ✓\n",
      "770000 77% (17m 41s) 3.8090 Mullins / English ✗ (French)\n",
      "775000 77% (17m 48s) 0.7049 Le / Vietnamese ✓\n",
      "780000 78% (17m 54s) 0.2370 Saliba / Arabic ✓\n",
      "785000 78% (18m 1s) 0.6550 Slazak / Polish ✓\n",
      "790000 79% (18m 8s) 1.2475 Sargent / German ✗ (French)\n",
      "795000 79% (18m 15s) 0.5286 Escarra / Spanish ✓\n",
      "800000 80% (18m 22s) 0.0751 Okimoto / Japanese ✓\n",
      "805000 80% (18m 28s) 0.8567 Silveira / Portuguese ✓\n",
      "810000 81% (18m 35s) 0.0417 Koizumi / Japanese ✓\n",
      "815000 81% (18m 42s) 1.3298 Maria / Spanish ✗ (Portuguese)\n",
      "820000 82% (18m 49s) 0.3796 Kozlow / Polish ✓\n",
      "825000 82% (18m 56s) 0.7543 Murphy / Scottish ✓\n",
      "830000 83% (19m 3s) 0.0365 Zellweger / German ✓\n",
      "835000 83% (19m 10s) 4.0003 Ecclestone / French ✗ (English)\n",
      "840000 84% (19m 17s) 0.2979 Araujo / Portuguese ✓\n",
      "845000 84% (19m 23s) 0.2376 Zientek / Polish ✓\n",
      "850000 85% (19m 30s) 1.7681 D'cruze / Irish ✗ (Portuguese)\n",
      "855000 85% (19m 37s) 0.6744 Mitchell / Scottish ✓\n",
      "860000 86% (19m 44s) 1.7374 Marino / Portuguese ✗ (Italian)\n",
      "865000 86% (19m 50s) 3.7739 Rompa / Czech ✗ (Dutch)\n",
      "870000 87% (19m 57s) 0.4044 Cloutier / French ✓\n",
      "875000 87% (20m 4s) 0.0422 Snijders / Dutch ✓\n",
      "880000 88% (20m 11s) 1.7153 Irie / Japanese ✓\n",
      "885000 88% (20m 18s) 0.4096 Svocak / Czech ✓\n",
      "890000 89% (20m 25s) 0.5459 Weber / German ✓\n",
      "895000 89% (20m 32s) 0.0486 Aloisi / Italian ✓\n",
      "900000 90% (20m 38s) 2.0351 Santos / Spanish ✗ (Portuguese)\n",
      "905000 90% (20m 45s) 0.0732 Wyrzyk / Polish ✓\n",
      "910000 91% (20m 52s) 0.0278 Kassis / Arabic ✓\n",
      "915000 91% (20m 59s) 2.2495 Delgado / Irish ✗ (Portuguese)\n",
      "920000 92% (21m 6s) 0.0658 Takahama / Japanese ✓\n",
      "925000 92% (21m 13s) 1.1423 Dolezal / Czech ✓\n",
      "930000 93% (21m 20s) 1.2221 Pisani / Japanese ✗ (Italian)\n",
      "935000 93% (21m 26s) 2.6748 Duarte / French ✗ (Portuguese)\n",
      "940000 94% (21m 33s) 0.1906 Motoyoshi / Japanese ✓\n",
      "945000 94% (21m 40s) 2.5894 Gardiner / Spanish ✗ (English)\n",
      "950000 95% (21m 47s) 1.7881 Costa / Spanish ✗ (Portuguese)\n",
      "955000 95% (21m 54s) 4.9623 Gravari / Italian ✗ (Greek)\n",
      "960000 96% (22m 1s) 0.2615 Ybarra / Spanish ✓\n",
      "965000 96% (22m 8s) 0.2168 Serizawa / Japanese ✓\n",
      "970000 97% (22m 15s) 0.4924 Fausti / Italian ✓\n",
      "975000 97% (22m 21s) 0.0716 Samaha / Arabic ✓\n",
      "980000 98% (22m 28s) 0.0220 Antonopoulos / Greek ✓\n",
      "985000 98% (22m 35s) 0.0458 Lawniczak / Polish ✓\n",
      "990000 99% (22m 42s) 0.2434 Chau / Vietnamese ✓\n",
      "995000 99% (22m 49s) 0.7977 Shamon / Arabic ✓\n",
      "1000000 100% (22m 56s) 0.8324 Reynder / Dutch ✓\n"
     ]
    }
   ],
   "source": [
    "import time\n",
    "import math\n",
    "\n",
    "n_iters = 1000000\n",
    "print_every = 5000\n",
    "plot_every = 1000\n",
    "\n",
    "# n_iters = 100\n",
    "# print_every = 20\n",
    "# plot_every = 10\n",
    "\n",
    "# Keep track of losses for plotting\n",
    "current_loss = 0\n",
    "all_losses = []\n",
    "\n",
    "def timeSince(since):\n",
    "    now = time.time()\n",
    "    s = now - since\n",
    "    m = math.floor(s / 60)\n",
    "    s -= m * 60\n",
    "    return '%dm %ds' % (m, s)\n",
    "\n",
    "start = time.time()\n",
    "\n",
    "for iter in range(1, n_iters + 1):\n",
    "    category, line, category_tensor, line_tensor = randomTrainingExample()\n",
    "    output, loss = train(category_tensor, line_tensor)\n",
    "    current_loss += loss\n",
    "\n",
    "    # Print ``iter`` number, loss, name and guess\n",
    "    if iter % print_every == 0:\n",
    "        guess, guess_i = categoryFromOutput(output)\n",
    "        correct = '✓' if guess == category else '✗ (%s)' % category\n",
    "        print('%d %d%% (%s) %.4f %s / %s %s' % (iter, iter / n_iters * 100, timeSince(start), loss, line, guess, correct))\n",
    "\n",
    "    # Add current loss avg to list of losses\n",
    "    if iter % plot_every == 0:\n",
    "        all_losses.append(current_loss / plot_every)\n",
    "        current_loss = 0"
   ]
  },
  {
   "cell_type": "code",
   "execution_count": 56,
   "id": "4c06de3b",
   "metadata": {},
   "outputs": [
    {
     "data": {
      "text/plain": [
       "[<matplotlib.lines.Line2D at 0x7feaf8d49640>]"
      ]
     },
     "execution_count": 56,
     "metadata": {},
     "output_type": "execute_result"
    },
    {
     "data": {
      "image/png": "[encoded data removed]",
      "text/plain": [
       "<Figure size 640x480 with 1 Axes>"
      ]
     },
     "metadata": {},
     "output_type": "display_data"
    }
   ],
   "source": [
    "import matplotlib.pyplot as plt\n",
    "import matplotlib.ticker as ticker\n",
    "\n",
    "plt.figure()\n",
    "plt.plot(all_losses)"
   ]
  },
  {
   "cell_type": "code",
   "execution_count": 58,
   "id": "e59c990f",
   "metadata": {},
   "outputs": [
    {
     "name": "stderr",
     "output_type": "stream",
     "text": [
      "/tmp/ipykernel_507686/3585656379.py:33: UserWarning: FixedFormatter should only be used together with FixedLocator\n",
      "  ax.set_xticklabels([''] + all_categories, rotation=90)\n",
      "/tmp/ipykernel_507686/3585656379.py:34: UserWarning: FixedFormatter should only be used together with FixedLocator\n",
      "  ax.set_yticklabels([''] + all_categories)\n"
     ]
    },
    {
     "data": {
      "image/png": "[encoded data removed]",
      "text/plain": [
       "<Figure size 640x480 with 2 Axes>"
      ]
     },
     "metadata": {},
     "output_type": "display_data"
    }
   ],
   "source": [
    "# Keep track of correct guesses in a confusion matrix\n",
    "confusion = torch.zeros(n_categories, n_categories)\n",
    "n_confusion = 10000\n",
    "\n",
    "# Just return an output given a line\n",
    "def evaluate(line_tensor):\n",
    "    hidden = rnn.initHidden()\n",
    "\n",
    "    for i in range(line_tensor.size()[0]):\n",
    "        output, hidden = rnn(line_tensor[i], hidden)\n",
    "\n",
    "    return output\n",
    "\n",
    "# Go through a bunch of examples and record which are correctly guessed\n",
    "for i in range(n_confusion):\n",
    "    category, line, category_tensor, line_tensor = randomTrainingExample()\n",
    "    output = evaluate(line_tensor)\n",
    "    guess, guess_i = categoryFromOutput(output)\n",
    "    category_i = all_categories.index(category)\n",
    "    confusion[category_i][guess_i] += 1\n",
    "\n",
    "# Normalize by dividing every row by its sum\n",
    "for i in range(n_categories):\n",
    "    confusion[i] = confusion[i] / confusion[i].sum()\n",
    "\n",
    "# Set up plot\n",
    "fig = plt.figure()\n",
    "ax = fig.add_subplot(111)\n",
    "cax = ax.matshow(confusion.numpy())\n",
    "fig.colorbar(cax)\n",
    "\n",
    "# Set up axes\n",
    "ax.set_xticklabels([''] + all_categories, rotation=90)\n",
    "ax.set_yticklabels([''] + all_categories)\n",
    "\n",
    "# Force label at every tick\n",
    "ax.xaxis.set_major_locator(ticker.MultipleLocator(1))\n",
    "ax.yaxis.set_major_locator(ticker.MultipleLocator(1))\n",
    "\n",
    "# sphinx_gallery_thumbnail_number = 2\n",
    "plt.show()"
   ]
  },
  {
   "cell_type": "code",
   "execution_count": 69,
   "id": "227820cb",
   "metadata": {},
   "outputs": [
    {
     "name": "stdout",
     "output_type": "stream",
     "text": [
      "\n",
      "> Dovesky\n",
      "(-0.25) Russian\n",
      "(-2.05) Czech\n",
      "(-3.06) English\n",
      "\n",
      "> Jackson\n",
      "(-1.06) English\n",
      "(-1.81) Scottish\n",
      "(-1.81) Dutch\n",
      "\n",
      "> Satoshi\n",
      "(-1.16) Italian\n",
      "(-1.18) Arabic\n",
      "(-2.21) Japanese\n",
      "\n",
      "> Jack\n",
      "(-1.08) Czech\n",
      "(-1.79) English\n",
      "(-2.08) Dutch\n",
      "\n",
      "> jack\n",
      "(-0.44) Dutch\n",
      "(-1.34) Czech\n",
      "(-3.48) German\n",
      "\n",
      "> zhiqiang\n",
      "(-1.24) English\n",
      "(-1.31) Scottish\n",
      "(-2.28) Czech\n",
      "\n",
      "> tang\n",
      "(-1.63) German\n",
      "(-1.76) Vietnamese\n",
      "(-1.83) English\n",
      "\n",
      "> Tan\n",
      "(-0.48) Vietnamese\n",
      "(-1.00) Chinese\n",
      "(-4.85) Korean\n",
      "\n",
      "> Kin\n",
      "(-1.21) Chinese\n",
      "(-1.37) Vietnamese\n",
      "(-1.91) Russian\n"
     ]
    }
   ],
   "source": [
    "def predict(input_line, n_predictions=3):\n",
    "    print('\\n> %s' % input_line)\n",
    "    with torch.no_grad():\n",
    "        output = evaluate(lineToTensor(input_line))\n",
    "\n",
    "        # Get top N categories\n",
    "        topv, topi = output.topk(n_predictions, 1, True)\n",
    "        predictions = []\n",
    "\n",
    "        for i in range(n_predictions):\n",
    "            value = topv[0][i].item()\n",
    "            category_index = topi[0][i].item()\n",
    "            print('(%.2f) %s' % (value, all_categories[category_index]))\n",
    "            predictions.append([value, all_categories[category_index]])\n",
    "\n",
    "predict('Dovesky')\n",
    "predict('Jackson')\n",
    "predict('Satoshi')\n",
    "predict('Jack')\n",
    "predict('jack')\n",
    "predict('zhiqiang')\n",
    "predict('tang')\n",
    "predict('Tan')\n",
    "predict('Kin')"
   ]
  }
 ],
 "metadata": {
  "kernelspec": {
   "display_name": "Python 3",
   "language": "python",
   "name": "python3"
  },
  "language_info": {
   "codemirror_mode": {
    "name": "ipython",
    "version": 3
   },
   "file_extension": ".py",
   "mimetype": "text/x-python",
   "name": "python",
   "nbconvert_exporter": "python",
   "pygments_lexer": "ipython3",
   "version": "3.8.10"
  }
 },
 "nbformat": 4,
 "nbformat_minor": 5
}
